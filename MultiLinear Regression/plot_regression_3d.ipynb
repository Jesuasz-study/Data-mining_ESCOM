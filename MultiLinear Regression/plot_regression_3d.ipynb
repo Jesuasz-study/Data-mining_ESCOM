{
 "cells": [
  {
   "cell_type": "code",
   "execution_count": 1,
   "metadata": {},
   "outputs": [],
   "source": [
    "%matplotlib inline"
   ]
  },
  {
   "cell_type": "markdown",
   "metadata": {},
   "source": [
    "\n",
    "Multiple Regression\n",
    "====================\n",
    "\n",
    "Calculate using 'statsmodels' just the best fit, or all the corresponding\n",
    "statistical parameters.\n",
    "\n",
    "Also shows how to make 3d plots.\n",
    "\n"
   ]
  },
  {
   "cell_type": "code",
   "execution_count": 3,
   "metadata": {},
   "outputs": [
    {
     "ename": "ModuleNotFoundError",
     "evalue": "No module named 'statsmodels'",
     "output_type": "error",
     "traceback": [
      "\u001b[1;31m---------------------------------------------------------------------------\u001b[0m",
      "\u001b[1;31mModuleNotFoundError\u001b[0m                       Traceback (most recent call last)",
      "\u001b[1;32m<ipython-input-3-d1dab5658b50>\u001b[0m in \u001b[0;36m<module>\u001b[1;34m\u001b[0m\n\u001b[0;32m      4\u001b[0m \u001b[1;32mimport\u001b[0m \u001b[0mmatplotlib\u001b[0m\u001b[1;33m.\u001b[0m\u001b[0mpyplot\u001b[0m \u001b[1;32mas\u001b[0m \u001b[0mplt\u001b[0m\u001b[1;33m\u001b[0m\u001b[1;33m\u001b[0m\u001b[0m\n\u001b[0;32m      5\u001b[0m \u001b[1;32mimport\u001b[0m \u001b[0mpandas\u001b[0m\u001b[1;33m\u001b[0m\u001b[1;33m\u001b[0m\u001b[0m\n\u001b[1;32m----> 6\u001b[1;33m \u001b[1;32mimport\u001b[0m \u001b[0mstatsmodels\u001b[0m\u001b[1;33m.\u001b[0m\u001b[0mformula\u001b[0m\u001b[1;33m.\u001b[0m\u001b[0mapi\u001b[0m \u001b[1;32mas\u001b[0m \u001b[0msmf\u001b[0m\u001b[1;33m\u001b[0m\u001b[1;33m\u001b[0m\u001b[0m\n\u001b[0m\u001b[0;32m      7\u001b[0m \u001b[1;33m\u001b[0m\u001b[0m\n\u001b[0;32m      8\u001b[0m \u001b[1;31m# For 3d plots. This import is necessary to have 3D plotting below\u001b[0m\u001b[1;33m\u001b[0m\u001b[1;33m\u001b[0m\u001b[1;33m\u001b[0m\u001b[0m\n",
      "\u001b[1;31mModuleNotFoundError\u001b[0m: No module named 'statsmodels'"
     ]
    }
   ],
   "source": [
    "# Original author: Thomas Haslwanter\n",
    "\n",
    "import numpy as np\n",
    "import matplotlib.pyplot as plt\n",
    "import pandas\n",
    "import statsmodels.formula.api as smf\n",
    "\n",
    "# For 3d plots. This import is necessary to have 3D plotting below\n",
    "from mpl_toolkits.mplot3d import Axes3D\n",
    "\n",
    "# For statistics. Requires statsmodels 5.0 or more\n",
    "from smf import ols\n",
    "# Analysis of Variance (ANOVA) on linear models\n",
    "from statsmodels.stats.anova import anova_lm"
   ]
  },
  {
   "cell_type": "markdown",
   "metadata": {},
   "source": [
    "Generate and show the data\n",
    "\n"
   ]
  },
  {
   "cell_type": "code",
   "execution_count": null,
   "metadata": {},
   "outputs": [],
   "source": [
    "x = np.linspace(-5, 5, 21)\n",
    "# We generate a 2D grid\n",
    "X, Y = np.meshgrid(x, x)\n",
    "\n",
    "# To get reproducable values, provide a seed value\n",
    "np.random.seed(1)\n",
    "\n",
    "# Z is the elevation of this 2D grid\n",
    "Z = -5 + 3*X - 0.5*Y + 8 * np.random.normal(size=X.shape)\n",
    "\n",
    "# Plot the data\n",
    "fig = plt.figure()\n",
    "ax = fig.gca(projection='3d')\n",
    "surf = ax.plot_surface(X, Y, Z, cmap=plt.cm.coolwarm,\n",
    "                       rstride=1, cstride=1)\n",
    "ax.view_init(20, -120)\n",
    "ax.set_xlabel('X')\n",
    "ax.set_ylabel('Y')\n",
    "ax.set_zlabel('Z')"
   ]
  },
  {
   "cell_type": "markdown",
   "metadata": {},
   "source": [
    "Multilinear regression model, calculating fit, P-values, confidence\n",
    "intervals etc.\n",
    "\n"
   ]
  },
  {
   "cell_type": "code",
   "execution_count": null,
   "metadata": {},
   "outputs": [],
   "source": [
    "# Convert the data into a Pandas DataFrame to use the formulas framework\n",
    "# in statsmodels\n",
    "\n",
    "# First we need to flatten the data: it's 2D layout is not relevent.\n",
    "X = X.flatten()\n",
    "Y = Y.flatten()\n",
    "Z = Z.flatten()\n",
    "\n",
    "data = pandas.DataFrame({'x': X, 'y': Y, 'z': Z})\n",
    "\n",
    "# Fit the model\n",
    "model = ols(\"z ~ x + y\", data).fit()\n",
    "\n",
    "# Print the summary\n",
    "print(model.summary())\n",
    "\n",
    "print(\"\\nRetrieving manually the parameter estimates:\")\n",
    "print(model._results.params)\n",
    "# should be array([-4.99754526,  3.00250049, -0.50514907])\n",
    "\n",
    "# Peform analysis of variance on fitted linear model\n",
    "anova_results = anova_lm(model)\n",
    "\n",
    "print('\\nANOVA results')\n",
    "print(anova_results)\n",
    "\n",
    "plt.show()"
   ]
  }
 ],
 "metadata": {
  "kernelspec": {
   "display_name": "Python 3",
   "language": "python",
   "name": "python3"
  },
  "language_info": {
   "codemirror_mode": {
    "name": "ipython",
    "version": 3
   },
   "file_extension": ".py",
   "mimetype": "text/x-python",
   "name": "python",
   "nbconvert_exporter": "python",
   "pygments_lexer": "ipython3",
   "version": "3.6.8"
  }
 },
 "nbformat": 4,
 "nbformat_minor": 1
}
